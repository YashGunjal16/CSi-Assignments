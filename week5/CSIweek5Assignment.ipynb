{
  "nbformat": 4,
  "nbformat_minor": 0,
  "metadata": {
    "colab": {
      "provenance": []
    },
    "kernelspec": {
      "name": "python3",
      "display_name": "Python 3"
    },
    "language_info": {
      "name": "python"
    }
  },
  "cells": [
    {
      "cell_type": "markdown",
      "source": [
        " 1. Setup & Load Data"
      ],
      "metadata": {
        "id": "nwQSN4lbsKT4"
      }
    },
    {
      "cell_type": "code",
      "execution_count": 2,
      "metadata": {
        "colab": {
          "base_uri": "https://localhost:8080/"
        },
        "id": "ODFWYdwMsBZS",
        "outputId": "12c40eea-7817-40e2-ae1e-ce2f368db465"
      },
      "outputs": [
        {
          "output_type": "stream",
          "name": "stdout",
          "text": [
            "(2919, 79)\n"
          ]
        }
      ],
      "source": [
        "# Imports\n",
        "import pandas as pd\n",
        "import numpy as np\n",
        "from sklearn.impute import SimpleImputer\n",
        "from sklearn.preprocessing import LabelEncoder\n",
        "from scipy import stats\n",
        "\n",
        "# Load\n",
        "train = pd.read_csv(\"/content/train.csv\", index_col=\"Id\")\n",
        "test = pd.read_csv(\"/content/test.csv\", index_col=\"Id\")\n",
        "all_data = pd.concat([train.drop(\"SalePrice\", axis=1), test])\n",
        "y = train[\"SalePrice\"]\n",
        "\n",
        "print(all_data.shape)\n"
      ]
    },
    {
      "cell_type": "markdown",
      "source": [
        "2. Handling Missing Values"
      ],
      "metadata": {
        "id": "Tli5rEgZsL7E"
      }
    },
    {
      "cell_type": "code",
      "source": [
        "# Features mapped by strategy\n",
        "fill_none = [\"Alley\",\"FireplaceQu\",\"PoolQC\",\"Fence\",\"MiscFeature\",\"GarageType\",\n",
        "             \"GarageFinish\",\"GarageQual\",\"GarageCond\",\"BsmtQual\",\"BsmtCond\",\n",
        "             \"BsmtExposure\",\"BsmtFinType1\",\"BsmtFinType2\",\"MasVnrType\"]\n",
        "fill_zero = [\"GarageYrBlt\",\"GarageArea\",\"GarageCars\",\"BsmtFinSF1\",\"BsmtFinSF2\",\n",
        "             \"BsmtUnfSF\",\"TotalBsmtSF\",\"BsmtFullBath\",\"BsmtHalfBath\",\"MasVnrArea\"]\n",
        "fill_mode = [\"MSZoning\",\"Functional\",\"Utilities\",\"Electrical\",\"KitchenQual\",\"Exterior1st\",\"Exterior2nd\",\"SaleType\",\"SaleCondition\"]\n",
        "\n",
        "# Fill\n",
        "all_data[fill_none] = all_data[fill_none].fillna(\"None\")\n",
        "all_data[fill_zero] = all_data[fill_zero].fillna(0)\n",
        "imp = SimpleImputer(strategy=\"most_frequent\")\n",
        "all_data[fill_mode] = imp.fit_transform(all_data[fill_mode])\n",
        "print(all_data.isnull().sum().sort_values(ascending=False).head(10))\n"
      ],
      "metadata": {
        "colab": {
          "base_uri": "https://localhost:8080/"
        },
        "id": "g7ibhacjsOQ3",
        "outputId": "1e07f142-fd40-4b25-985e-06d410a01d72"
      },
      "execution_count": 3,
      "outputs": [
        {
          "output_type": "stream",
          "name": "stdout",
          "text": [
            "LotFrontage    486\n",
            "MSSubClass       0\n",
            "MSZoning         0\n",
            "LotArea          0\n",
            "Street           0\n",
            "Alley            0\n",
            "LotShape         0\n",
            "LandContour      0\n",
            "Utilities        0\n",
            "LotConfig        0\n",
            "dtype: int64\n"
          ]
        }
      ]
    },
    {
      "cell_type": "markdown",
      "source": [
        "3. Feature Engineering\n",
        "\n",
        "*   a) Combine Areas & Age\n",
        "*   b) Transform Skewed Numericals\n",
        "*   c) Encode Ordinals & Categoricals\n",
        "*   d) One-Hot Encoding\n",
        "\n"
      ],
      "metadata": {
        "id": "U70Sq5-7sQAy"
      }
    },
    {
      "cell_type": "code",
      "source": [
        "#a) Combine Areas & Age\n",
        "all_data[\"TotalSF\"] = (all_data[\"TotalBsmtSF\"] + all_data[\"1stFlrSF\"] +\n",
        "                       all_data[\"2ndFlrSF\"])\n",
        "all_data[\"HouseAge\"] = all_data[\"YrSold\"] - all_data[\"YearBuilt\"]\n",
        "all_data[\"RemodAge\"] = all_data[\"YrSold\"] - all_data[\"YearRemodAdd\"]\n",
        "all_data[\"TotalBath\"] = (all_data[\"FullBath\"] + 0.5*all_data[\"HalfBath\"] +\n",
        "                         all_data[\"BsmtFullBath\"] + 0.5*all_data[\"BsmtHalfBath\"])\n"
      ],
      "metadata": {
        "id": "AQEnrRhNsS9q"
      },
      "execution_count": 4,
      "outputs": []
    },
    {
      "cell_type": "code",
      "source": [
        "#b) Transform Skewed Numericals\n",
        "numeric_feats = all_data.dtypes[all_data.dtypes != \"object\"].index\n",
        "skewness = all_data[numeric_feats].apply(lambda x: stats.skew(x.dropna()))\n",
        "skewed = skewness[abs(skewness) > 0.75].index\n",
        "from scipy.special import boxcox1p\n",
        "for feat in skewed:\n",
        "    all_data[feat] = boxcox1p(all_data[feat], 0.15)\n"
      ],
      "metadata": {
        "id": "PmqsEFSXsgPB"
      },
      "execution_count": 5,
      "outputs": []
    },
    {
      "cell_type": "code",
      "source": [
        "#c) Encode Ordinals & Categoricals\n",
        "# Example ordinal mapping\n",
        "qual_map = {\"None\":0, \"Po\":1, \"Fa\":2, \"TA\":3, \"Gd\":4, \"Ex\":5}\n",
        "all_data[\"ExterQual\"] = all_data[\"ExterQual\"].map(qual_map)\n",
        "# Add more similarly...\n",
        "\n",
        "# Label encode neighborhood\n",
        "lbl = LabelEncoder()\n",
        "all_data[\"Neighborhood\"] = lbl.fit_transform(all_data[\"Neighborhood\"])\n"
      ],
      "metadata": {
        "id": "14aKR6SZsie8"
      },
      "execution_count": 6,
      "outputs": []
    },
    {
      "cell_type": "code",
      "source": [
        "#d) One-Hot Encoding\n",
        "all_data = pd.get_dummies(all_data)\n",
        "print(\"Final features:\", all_data.shape)"
      ],
      "metadata": {
        "colab": {
          "base_uri": "https://localhost:8080/"
        },
        "id": "3QmwO1Rfs90-",
        "outputId": "dbe710d0-9bce-46c0-f44e-a67dcdab6a74"
      },
      "execution_count": 7,
      "outputs": [
        {
          "output_type": "stream",
          "name": "stdout",
          "text": [
            "Final features: (2919, 279)\n"
          ]
        }
      ]
    },
    {
      "cell_type": "markdown",
      "source": [
        "4. Train/Test Split"
      ],
      "metadata": {
        "id": "52ONF51-tC8r"
      }
    },
    {
      "cell_type": "code",
      "source": [
        "X = all_data.loc[train.index]\n",
        "X_test = all_data.loc[test.index]\n",
        "print(X.shape, X_test.shape)\n",
        "# Distribution  ✔\n",
        "print(\"Target skewness:\", stats.skew(y))\n"
      ],
      "metadata": {
        "colab": {
          "base_uri": "https://localhost:8080/"
        },
        "id": "4Xzd5n32tDua",
        "outputId": "a31bb8df-923e-4cec-ac1f-dd0a892ea42e"
      },
      "execution_count": 8,
      "outputs": [
        {
          "output_type": "stream",
          "name": "stdout",
          "text": [
            "(1460, 279) (1459, 279)\n",
            "Target skewness: 1.880940746034036\n"
          ]
        }
      ]
    },
    {
      "cell_type": "markdown",
      "source": [
        "Outlier Removal"
      ],
      "metadata": {
        "id": "tsjg1OeetFO3"
      }
    },
    {
      "cell_type": "code",
      "source": [
        "# Remove extreme TotalSF vs SalePrice\n",
        "idx = X[(X[\"TotalSF\"] > 5e4) & (y < np.percentile(y, 75))].index\n",
        "X.drop(idx, inplace=True); y.drop(idx, inplace=True)\n",
        "print(\"After outlier removal:\", X.shape)\n"
      ],
      "metadata": {
        "colab": {
          "base_uri": "https://localhost:8080/"
        },
        "id": "uutgJYG7tIYQ",
        "outputId": "a1b7edd0-f9b3-47a9-d8fa-225a32367853"
      },
      "execution_count": 9,
      "outputs": [
        {
          "output_type": "stream",
          "name": "stdout",
          "text": [
            "After outlier removal: (1460, 279)\n"
          ]
        }
      ]
    }
  ]
}